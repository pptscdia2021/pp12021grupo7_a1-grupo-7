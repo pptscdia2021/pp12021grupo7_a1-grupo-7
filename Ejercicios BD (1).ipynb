{
 "cells": [
  {
   "cell_type": "code",
   "execution_count": 43,
   "metadata": {},
   "outputs": [
    {
     "name": "stdout",
     "output_type": "stream",
     "text": [
      "Conexión correcta\n"
     ]
    }
   ],
   "source": [
    "import pymysql\n",
    "try:\n",
    "\tconexion = pymysql.connect(host='localhost',\n",
    "                             user='root',\n",
    "                             password='',\n",
    "                             db='employees')\n",
    "\tprint(\"Conexión correcta\")\n",
    "except (pymysql.err.OperationalError, pymysql.err.InternalError) as e:\n",
    "\tprint(\"Ocurrió un error al conectar: \", e)\n",
    "    \n",
    "def browse(consulta):\n",
    "    try:\n",
    "        with conexion.cursor() as cursor:\n",
    "            # En este caso no necesitamos limpiar ningún dato\n",
    "            cursor.execute(consulta)\n",
    "             # Con fetchall traemos todas las filas\n",
    "            todos = cursor.fetchall()\n",
    " \n",
    "        # Recorrer e imprimir\n",
    "        for dato in todos:\n",
    "            print(dato)\n",
    "    except (pymysql.err.OperationalError, pymysql.err.InternalError) as e:\n",
    "        print(\"Ocurrió un error al conectar: \", e)   "
   ]
  },
  {
   "cell_type": "markdown",
   "metadata": {},
   "source": [
    "1er Ejercicio\n",
    "Obtener los datos completos de los empleados."
   ]
  },
  {
   "cell_type": "code",
   "execution_count": null,
   "metadata": {},
   "outputs": [],
   "source": [
    "browse(\"SELECT * FROM employees;\")"
   ]
  },
  {
   "cell_type": "markdown",
   "metadata": {},
   "source": [
    "2do Ejercicio\n",
    "Obtener los datos completos de los departamentos."
   ]
  },
  {
   "cell_type": "code",
   "execution_count": 44,
   "metadata": {
    "scrolled": true
   },
   "outputs": [
    {
     "name": "stdout",
     "output_type": "stream",
     "text": [
      "('d009', 'Customer Service')\n",
      "('d005', 'Development')\n",
      "('d002', 'Finance')\n",
      "('d003', 'Human Resources')\n",
      "('d001', 'Marketing')\n",
      "('d004', 'Production')\n",
      "('d006', 'Quality Management')\n",
      "('d008', 'Research')\n",
      "('d007', 'Sales')\n"
     ]
    }
   ],
   "source": [
    "browse(\"SELECT * FROM departments\")"
   ]
  },
  {
   "cell_type": "markdown",
   "metadata": {},
   "source": [
    " 3er Ejercicio\n",
    "Obtener la cantidad de empleados de sexo femnino.           "
   ]
  },
  {
   "cell_type": "code",
   "execution_count": null,
   "metadata": {},
   "outputs": [],
   "source": [
    "try:\n",
    "    with conexion.cursor() as cursor:\n",
    "        consulta=\"SELECT * FROM employees WHERE gender= %s;\"\n",
    "        cursor.execute(consulta,(\"F\"))\n",
    "        mujeres = cursor.fetchall()\n",
    " \n",
    "    # Recorrer e imprimir\n",
    "        for sexo in mujeres:\n",
    "            print(sexo)\n",
    "except (pymysql.err.OperationalError, pymysql.err.InternalError) as e:\n",
    "    print(\"Ocurrió un error al conectar: \", e)"
   ]
  },
  {
   "cell_type": "markdown",
   "metadata": {},
   "source": [
    "4to Ejercicio\n",
    "Obtener los empleados que son o han sido \"staff\". Recordar que es una consulta multi tablas."
   ]
  },
  {
   "cell_type": "code",
   "execution_count": null,
   "metadata": {},
   "outputs": [],
   "source": [
    "try:\n",
    "    with conexion.cursor() as cursor:\n",
    "        consulta=\"SELECT employees.first_name, employees.last_name FROM employees, titles WHERE employees.emp_no=titles.emp_no AND titles.title= %s;\"\n",
    "        cursor.execute(consulta,(\"Staff\"))\n",
    "        jefes = cursor.fetchall()\n",
    " \n",
    "    # Recorrer e imprimir\n",
    "        for dato in jefes:\n",
    "            print(dato)\n",
    "except (pymysql.err.OperationalError, pymysql.err.InternalError) as e:\n",
    "    print(\"Ocurrió un error al conectar: \", e)"
   ]
  },
  {
   "cell_type": "markdown",
   "metadata": {},
   "source": [
    "5to Ejercicio\n",
    "Agregar el departamento Cienca de Datos"
   ]
  },
  {
   "cell_type": "code",
   "execution_count": null,
   "metadata": {},
   "outputs": [],
   "source": [
    "INSERT INTO `departments`(`dept_no`, `dept_name`) VALUES ('d010','Cienca de Datos');"
   ]
  },
  {
   "cell_type": "markdown",
   "metadata": {},
   "source": [
    "6to Ejercicio\n",
    "Agregar el empleado \"Pepe\" y hacerlo jefe (\"manager\") del departamento Cienca de Datos."
   ]
  },
  {
   "cell_type": "code",
   "execution_count": null,
   "metadata": {},
   "outputs": [],
   "source": [
    "INSERT INTO `employees`(`emp_no`, `birth_date`, `first_name`, `last_name`, `gender`, `hire_date`) VALUES ('500000','11-02','Pepe','Pepe','M','01-11-2021');\n",
    "INSERT INTO `dept_manager`(`emp_no`, `dept_no`, `from_date`, `to_date`) VALUES ('500000','d010','01-11-2021','');"
   ]
  },
  {
   "cell_type": "markdown",
   "metadata": {},
   "source": [
    "7mo Ejercicio\n",
    "Borrar el empleado \"Pepe\"."
   ]
  },
  {
   "cell_type": "code",
   "execution_count": null,
   "metadata": {},
   "outputs": [],
   "source": [
    "DELETE FROM `employees` WHERE `emp_no`=500000\n",
    "DELETE FROM `dept_manager` WHERE `emp_no`=500000"
   ]
  },
  {
   "cell_type": "markdown",
   "metadata": {},
   "source": [
    "8vo Ejercicio\n",
    "Obtener el promedio de salarios por departamento."
   ]
  },
  {
   "cell_type": "code",
   "execution_count": null,
   "metadata": {},
   "outputs": [],
   "source": [
    "SELECT AVG(salaries.salary) AS 'Promedio', dept_emp.emp_no as 'Nro Dpto' FROM salaries, dept_emp WHERE salaries.emp_no=dept_emp.emp_no;"
   ]
  },
  {
   "cell_type": "markdown",
   "metadata": {},
   "source": [
    "9no Ejercicio\n",
    "Compartir el código en Python para crear en MongoDB una base de datos denominada \"weatherHistory\" y una colección con el mismo nombre. Cargar los datos del archivo csv denominado weatherHistory.csv"
   ]
  },
  {
   "cell_type": "code",
   "execution_count": null,
   "metadata": {},
   "outputs": [],
   "source": [
    "from pymongo import MongoClient\n",
    "import json\n",
    "myclient = pymongo.MongoClient(\"mongodb://localhost:27017/\")\n",
    "mydb = myclient[\"weatherHistory\"]\n",
    "mycol = mydb[\"weatherHistory\"]\n",
    "with open('weatherHistory.csv') as file:\n",
    "     data = json.load(file)\n",
    "     \n",
    "    \n",
    "     \n",
    "        "
   ]
  },
  {
   "cell_type": "markdown",
   "metadata": {},
   "source": [
    "10mo Ejercicio\n",
    "Compartir el código en en Python que devuelva la cantidad de registros insertados en la colección anterior."
   ]
  },
  {
   "cell_type": "code",
   "execution_count": null,
   "metadata": {},
   "outputs": [],
   "source": []
  }
 ],
 "metadata": {
  "kernelspec": {
   "display_name": "Python 3",
   "language": "python",
   "name": "python3"
  },
  "language_info": {
   "codemirror_mode": {
    "name": "ipython",
    "version": 3
   },
   "file_extension": ".py",
   "mimetype": "text/x-python",
   "name": "python",
   "nbconvert_exporter": "python",
   "pygments_lexer": "ipython3",
   "version": "3.8.5"
  }
 },
 "nbformat": 4,
 "nbformat_minor": 4
}
